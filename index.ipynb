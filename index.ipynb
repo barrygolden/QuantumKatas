{
 "cells": [
  {
   "cell_type": "markdown",
   "metadata": {},
   "source": [
    "# Quantum Katas as Jupyter Notebooks\n",
    "\n",
    "The Quantum Katas are now available as Jupyter Notebooks! \n",
    "\n",
    "## List of Katas\n",
    "\n",
    "#### Quantum computing concepts\n",
    "\n",
    "* **[Basic quantum computing gates](./BasicGates/BasicGates.ipynb)**.\n",
    "  This kata focuses on main single-qubit and multi-qubit gates used in quantum computing.\n",
    "* **[Superposition](./Superposition/Superposition.ipynb)**.\n",
    "  The tasks focus on preparing a certain superposition state on one or multiple qubits.\n",
    "* **[Measurements](./Measurements/Measurements.ipynb)**.\n",
    "  The tasks focus on distinguishing quantum states using measurements.\n",
    "* **[JointMeasurements](./JointMeasurements/JointMeasurements.ipynb)**.\n",
    "  The tasks focus on using joint (parity) measurements for distinguishing quantum states and performing unitary transformations.\n",
    "  \n",
    "#### Simple algorithms\n",
    "\n",
    "* **[Teleportation](./Teleportation/Teleportation.ipynb)**. This kata walks you through the standard teleportation protocol and several variations.\n",
    "* **[Superdense coding](./SuperdenseCoding/SuperdenseCoding.ipynb)**. This kata walks you through the superdense coding protocol.\n",
    "* **[Deutsch–Jozsa algorithm](./DeutschJozsaAlgorithm/DeutschJozsaAlgorithm.ipynb)**.\n",
    "  This kata starts with writing quantum oracles which implement classical functions, and continues to introduce the Bernstein–Vazirani and Deutsch–Jozsa algorithms.\n",
    "\n",
    "#### Grover's algorithm\n",
    "\n",
    "* **[Grover's algorithm](./GroversAlgorithm/GroversAlgorithm.ipynb)**. This kata introduces Grover's search algorithm and writing quantum oracles to be used with it.\n",
    "\n",
    "#### Entanglement games\n",
    "\n",
    "* **[CHSH game](./CHSHGame/CHSHGame.ipynb)**.\n",
    "* **[GHZ Game](./GHZGame/GHZGame.ipynb)**.\n",
    "* **[Magic Square Game](./MagicSquareGame/MagicSquareGame.ipynb)**.\n",
    "\n",
    "For a full list of Quantum Katas, available as Q# projects, see the [QuantumKatas repository](https://github.com/Microsoft/QuantumKatas#list-of-katas-).\n",
    "\n",
    "## Getting Started with Kata Notebooks\n",
    "\n",
    "Each kata notebook presents the tasks of the respective kata (Q# project) in Jupyter Notebook format. This makes getting started with the katas a lot easier - you don't need to install anything locally to try them out!\n",
    "\n",
    "Make sure you're viewing this file on Binder (if not, use [this link](https://mybinder.org/v2/gh/Microsoft/QuantumKatas/master?filepath=index.ipynb)). From here you can navigate to the individual kata notebooks using the links above.\n",
    "\n",
    "* Each kata notebook contains a sequence of tasks on the topic, progressing from trivial to challenging.\n",
    "* Each task is defined in a separate code cell, preceded by the description of the task in a Markdown cell.\n",
    "  Your goal is to fill in the blanks in the code (marked with `// ...` comments) with some Q# code that solves the task. \n",
    "* To verify your solution, run the code cell using Ctrl + Enter (or ⌘ + Enter on macOS). This will invoke the test covering the task and let you know whether it passes or fails, and if it fails, what the error is.\n",
    "* You can find pointers to reference materials you might need to solve the tasks, both on quantum computing and on Q#, in `README.md` files of the corresponding katas.\n",
    "* You can find reference solutions in `ReferenceImplementation.qs` files of the corresponding katas."
   ]
  }
 ],
 "metadata": {
  "kernelspec": {
   "display_name": "Q#",
   "language": "qsharp",
   "name": "iqsharp"
  },
  "language_info": {
   "file_extension": ".qs",
   "mimetype": "text/x-qsharp",
   "name": "qsharp",
   "version": "0.4"
  }
 },
 "nbformat": 4,
 "nbformat_minor": 2
}
